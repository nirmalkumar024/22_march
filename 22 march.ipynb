{
 "cells": [
  {
   "cell_type": "markdown",
   "id": "35d98a83-9b84-4ea3-a676-8f1047a51269",
   "metadata": {},
   "source": [
    "Q1. Pearson correlation coefficient is a measure of the linear relationship between two variables. Suppose\n",
    "you have collected data on the amount of time students spend studying for an exam and their final exam\n",
    "scores. Calculate the Pearson correlation coefficient between these two variables and interpret the result."
   ]
  },
  {
   "cell_type": "code",
   "execution_count": 1,
   "id": "999afeed-c3bb-4b44-84e4-dbf46bef84a7",
   "metadata": {},
   "outputs": [],
   "source": [
    "data = {'student':['Jai', 'Princi', 'Gaurav', 'Anuj'],\n",
    "        'study_hours':[27, 24, 22, 32],\n",
    "       }\n",
    "       \n",
    "#note :- this data taken from the week wise and one who lern more than 25 hours per week means 25/7 ,\n",
    "#who probabilty high to pass the exam."
   ]
  },
  {
   "cell_type": "code",
   "execution_count": 2,
   "id": "a6f4c718-8ec5-4728-a3ab-b155532e5c1e",
   "metadata": {},
   "outputs": [
    {
     "data": {
      "text/plain": [
       "{'student': ['Jai', 'Princi', 'Gaurav', 'Anuj'],\n",
       " 'study_hours': [27, 24, 22, 32]}"
      ]
     },
     "execution_count": 2,
     "metadata": {},
     "output_type": "execute_result"
    }
   ],
   "source": [
    "data"
   ]
  },
  {
   "cell_type": "markdown",
   "id": "84e674ba-d61d-4456-8af3-312567173041",
   "metadata": {},
   "source": [
    "Q2. Spearman's rank correlation is a measure of the monotonic relationship between two variables.\n",
    "Suppose you have collected data on the amount of sleep individuals get each night and their overall job\n",
    "satisfaction level on a scale of 1 to 10. Calculate the Spearman's rank correlation between these two\n",
    "variables and interpret the result."
   ]
  },
  {
   "cell_type": "code",
   "execution_count": 3,
   "id": "c833b706-87ed-40b1-9305-11af74cc3a78",
   "metadata": {},
   "outputs": [],
   "source": [
    "data1 = {'empoly.':['Jaiya', 'Prateek', 'Gaurav', 'Anuj'],\n",
    "        'working_hours':[8, 10, 12, 8],\n",
    "       }\n",
    "\n",
    "#the scale who work more than 8 hours who would more than 8 hours sleep and more rest their body."
   ]
  },
  {
   "cell_type": "code",
   "execution_count": 4,
   "id": "a35c5f3f-6f77-4deb-909c-f0ffdc297edb",
   "metadata": {},
   "outputs": [
    {
     "data": {
      "text/plain": [
       "{'empoly.': ['Jaiya', 'Prateek', 'Gaurav', 'Anuj'],\n",
       " 'working_hours': [8, 10, 12, 8]}"
      ]
     },
     "execution_count": 4,
     "metadata": {},
     "output_type": "execute_result"
    }
   ],
   "source": [
    "data1"
   ]
  },
  {
   "cell_type": "markdown",
   "id": "a94d3681-0ac4-415c-9b60-86401b6c6c0d",
   "metadata": {},
   "source": [
    "Q3. Suppose you are conducting a study to examine the relationship between the number of hours of\n",
    "exercise per week and body mass index (BMI) in a sample of adults. You collected data on both variables\n",
    "for 50 participants. Calculate the Pearson correlation coefficient and the Spearman's rank correlation\n",
    "between these two variables and compare the results."
   ]
  },
  {
   "cell_type": "markdown",
   "id": "6ad7b836-1ed7-4cc1-bdd7-dcce49438da1",
   "metadata": {},
   "source": [
    "The formula for Spearman's rank correlation coefficient (sometimes simply referred to as rank correlation) 𝑟 = 1 − 6 ∑ 𝑑 𝑛 ( 𝑛 − 1 )    In it, 𝑟 ,\n",
    "represents the coefficient, and the number of points in the data set is represented by 𝑛 \n",
    "\n",
    "According to the question we have to find the two variables which have follow the spearman's rank correlation between these two variables."
   ]
  },
  {
   "cell_type": "markdown",
   "id": "b04d95fc-ff10-41cf-8a2b-47f763c32056",
   "metadata": {},
   "source": [
    "Q4. A researcher is interested in examining the relationship between the number of hours individuals\n",
    "spend watching television per day and their level of physical activity. The researcher collected data on\n",
    "both variables from a sample of 50 participants. Calculate the Pearson correlation coefficient between\n",
    "these two variables."
   ]
  },
  {
   "cell_type": "markdown",
   "id": "4551ae47-9a6a-4b10-8ca1-04c5864ded95",
   "metadata": {},
   "source": [
    "It is usual practice to quantify linear relationships through the Pearson correlation coefficient. To Indicate the strength and direction of the connection between two variables, it takes on a value between 0 and 50.\n",
    "\n",
    "It is usual practice to quantify linear relationships through the Pearson correlation coefficient. To Indicate the strength and direction of the connection between two variables, it takes on a value between -1 and 1."
   ]
  },
  {
   "cell_type": "markdown",
   "id": "b104375c-3ff5-4f2f-aa2d-446d3cf1598d",
   "metadata": {},
   "source": [
    "Q5. A survey was conducted to examine the relationship between age and preference for a particular\n",
    "brand of soft drink. The survey results are shown below:\n"
   ]
  },
  {
   "cell_type": "code",
   "execution_count": 5,
   "id": "19c1158a-7a39-4301-bcb2-678ccb18ea5a",
   "metadata": {},
   "outputs": [],
   "source": [
    "data3 = {'coke':['coke', 'Pepsi', 'mountain dew', 'coke'],\n",
    "        'age':[12, 20, 18, 10],\n",
    "       }"
   ]
  },
  {
   "cell_type": "code",
   "execution_count": 6,
   "id": "764c5a38-4ede-4ab0-ac41-c31af822456c",
   "metadata": {},
   "outputs": [
    {
     "data": {
      "text/plain": [
       "{'coke': ['coke', 'Pepsi', 'mountain dew', 'coke'], 'age': [12, 20, 18, 10]}"
      ]
     },
     "execution_count": 6,
     "metadata": {},
     "output_type": "execute_result"
    }
   ],
   "source": [
    "data3"
   ]
  },
  {
   "cell_type": "markdown",
   "id": "87801d4b-7eb7-43e2-b97f-bf0e82de8304",
   "metadata": {},
   "source": [
    "Q6. A company is interested in examining the relationship between the number of sales calls made per day\n",
    "and the number of sales made per week. The company collected data on both variables from a sample of\n",
    "30 sales representatives. Calculate the Pearson correlation coefficient between these two variables."
   ]
  },
  {
   "cell_type": "markdown",
   "id": "950d6075-79c1-4aff-ae09-17fac7c6da57",
   "metadata": {},
   "source": [
    "no. of sales calls=100 per day\n",
    "no. of 30 sales=?\n",
    "no. of person =?\n",
    "no. of empoly. in a company=10"
   ]
  },
  {
   "cell_type": "code",
   "execution_count": 7,
   "id": "f8834fa0-db59-4812-9389-6cf6ce9fa4f1",
   "metadata": {},
   "outputs": [
    {
     "data": {
      "text/plain": [
       "10.0"
      ]
     },
     "execution_count": 7,
     "metadata": {},
     "output_type": "execute_result"
    }
   ],
   "source": [
    "a=100/10\n",
    "a #per empoly. sales call"
   ]
  },
  {
   "cell_type": "code",
   "execution_count": 8,
   "id": "eff98177-dea9-4c33-b0ac-b54683163f51",
   "metadata": {},
   "outputs": [
    {
     "data": {
      "text/plain": [
       "3.3333333333333335"
      ]
     },
     "execution_count": 8,
     "metadata": {},
     "output_type": "execute_result"
    }
   ],
   "source": [
    "b=100/30\n",
    "b # one day sales"
   ]
  }
 ],
 "metadata": {
  "kernelspec": {
   "display_name": "Python 3 (ipykernel)",
   "language": "python",
   "name": "python3"
  },
  "language_info": {
   "codemirror_mode": {
    "name": "ipython",
    "version": 3
   },
   "file_extension": ".py",
   "mimetype": "text/x-python",
   "name": "python",
   "nbconvert_exporter": "python",
   "pygments_lexer": "ipython3",
   "version": "3.10.8"
  }
 },
 "nbformat": 4,
 "nbformat_minor": 5
}
